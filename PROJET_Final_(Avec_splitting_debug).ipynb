{
  "nbformat": 4,
  "nbformat_minor": 0,
  "metadata": {
    "colab": {
      "name": "PROJET_Final_(Avec_splitting).ipynb",
      "provenance": [],
      "collapsed_sections": [],
      "include_colab_link": true
    },
    "kernelspec": {
      "name": "python3",
      "display_name": "Python 3"
    }
  },
  "cells": [
    {
      "cell_type": "markdown",
      "metadata": {
        "id": "view-in-github",
        "colab_type": "text"
      },
      "source": [
        "<a href=\"https://colab.research.google.com/github/jbmw94/plantnetSimplon/blob/master/PROJET_Final_(Avec_splitting_debug).ipynb\" target=\"_parent\"><img src=\"https://colab.research.google.com/assets/colab-badge.svg\" alt=\"Open In Colab\"/></a>"
      ]
    },
    {
      "cell_type": "code",
      "metadata": {
        "id": "K7bfOIluuXPS",
        "outputId": "e8999f3f-876c-459f-9690-ae3580b3aac6",
        "colab": {
          "base_uri": "https://localhost:8080/",
          "height": 35
        }
      },
      "source": [
        "from google.colab import drive\n",
        "drive.mount('/content/drive')"
      ],
      "execution_count": 1,
      "outputs": [
        {
          "output_type": "stream",
          "text": [
            "Mounted at /content/drive\n"
          ],
          "name": "stdout"
        }
      ]
    },
    {
      "cell_type": "code",
      "metadata": {
        "id": "kSCbNwh6ubF0"
      },
      "source": [
        "from fastai.vision import *\n",
        "from fastai import *"
      ],
      "execution_count": 3,
      "outputs": []
    },
    {
      "cell_type": "code",
      "metadata": {
        "id": "qbK7Dx7XvjNc",
        "outputId": "029f550f-adee-46ea-f278-5d526f66a096",
        "colab": {
          "base_uri": "https://localhost:8080/",
          "height": 35
        }
      },
      "source": [
        "%run /content/main.py  --data_path=/content/drive/My Drive/Images Projet Final/ --train_data_path_to_save=/content/train/ --test_data_path_to_save=/content/test/ --train_ratio=0.7"
      ],
      "execution_count": 14,
      "outputs": [
        {
          "output_type": "stream",
          "text": [
            "ERROR:root:File `'/content/main.py'` not found.\n"
          ],
          "name": "stderr"
        }
      ]
    },
    {
      "cell_type": "code",
      "metadata": {
        "id": "5wVIuhMuyo0O",
        "outputId": "c1e21c97-b891-4729-9d38-567cdea8b49f",
        "colab": {
          "base_uri": "https://localhost:8080/",
          "height": 1000
        }
      },
      "source": [
        "import os\n",
        "import numpy as np\n",
        "import shutil\n",
        "import random\n",
        "\n",
        "\n",
        "\n",
        "# # Creating Train / Val / Test folders (One time use)\n",
        "\n",
        "root_dir = '/content/drive/My Drive/Images Projet Final'\n",
        "classes_dir = ['/Mario', '/Luigi', '/Yoshi', '/Link', '/Captain Falcon',\n",
        "'/Toad', '/Waluigi', '/Fox', '/Daisy','/Harmonie',\n",
        "'/Professor Layton', '/Donkey Kong', '/Tiny Kong', '/Pikachu', '/Phoenix Wright']\n",
        "\n",
        "val_ratio = 0.0\n",
        "test_ratio = 0.30\n",
        "\n",
        "for cls in classes_dir:\n",
        "  os.makedirs(root_dir + '/train'+ cls)\n",
        "  os.makedirs(root_dir + '/val'+ cls)\n",
        "  os.makedirs(root_dir + '/test'+ cls)\n",
        "  print(cls)\n",
        "  src = root_dir + cls # Folder to copy images from\n",
        "  allFileNames = os.listdir(src) # Creating partitions of the data after shuffeling\n",
        "  np.random.shuffle(allFileNames)\n",
        "  for i in allFileNames:\n",
        "    train_FileNames, test_FileNames = np.split(np.array(allFileNames),[int(len(allFileNames)* (1 - test_ratio))])\n",
        "    train_FileNames = [src+'/'+ name for name in train_FileNames.tolist()]\n",
        "    #val_FileNames = [src+'/' + name for name in val_FileNames.tolist()]\n",
        "    test_FileNames = [src+'/' + name for name in test_FileNames.tolist()]\n",
        "\n",
        "\n",
        "\n",
        "  print('Total images: ', len(allFileNames))\n",
        "  print('Training: ', len(train_FileNames))\n",
        "\n",
        "  #print('Validation: ', len(val_FileNames))\n",
        "  print('Testing: ', len(test_FileNames))\n",
        "\n",
        "  # Copy-pasting images\n",
        "\n",
        "  for name in train_FileNames:\n",
        "    shutil.copy(name, root_dir +'/train' + cls)\n",
        "\n",
        "  #for name in val_FileNames:\n",
        "  # shutil.copy(name, root_dir +'/val' + cls)\n",
        "\n",
        "  for name in test_FileNames:\n",
        "    shutil.copy(name, root_dir +'/test' + cls)"
      ],
      "execution_count": 13,
      "outputs": [
        {
          "output_type": "stream",
          "text": [
            "/Mario\n",
            "Total images:  149\n",
            "Training:  104\n",
            "Testing:  45\n",
            "/Luigi\n",
            "Total images:  149\n",
            "Training:  104\n",
            "Testing:  45\n",
            "/Yoshi\n",
            "Total images:  141\n",
            "Training:  98\n",
            "Testing:  43\n",
            "/Link\n",
            "Total images:  117\n",
            "Training:  81\n",
            "Testing:  36\n",
            "/Captain Falcon\n",
            "Total images:  159\n",
            "Training:  111\n",
            "Testing:  48\n",
            "/Toad\n",
            "Total images:  113\n",
            "Training:  79\n",
            "Testing:  34\n",
            "/Waluigi\n",
            "Total images:  159\n",
            "Training:  111\n",
            "Testing:  48\n",
            "/Fox\n",
            "Total images:  112\n",
            "Training:  78\n",
            "Testing:  34\n",
            "/Daisy\n",
            "Total images:  168\n",
            "Training:  117\n",
            "Testing:  51\n",
            "/Harmonie\n",
            "Total images:  144\n",
            "Training:  100\n",
            "Testing:  44\n",
            "/Professor Layton\n",
            "Total images:  102\n",
            "Training:  71\n",
            "Testing:  31\n",
            "/Donkey Kong\n",
            "Total images:  113\n",
            "Training:  79\n",
            "Testing:  34\n",
            "/Tiny Kong\n",
            "Total images:  208\n",
            "Training:  145\n",
            "Testing:  63\n",
            "/Pikachu\n",
            "Total images:  105\n",
            "Training:  73\n",
            "Testing:  32\n",
            "/Phoenix Wright\n",
            "Total images:  100\n",
            "Training:  70\n",
            "Testing:  30\n"
          ],
          "name": "stdout"
        }
      ]
    }
  ]
}